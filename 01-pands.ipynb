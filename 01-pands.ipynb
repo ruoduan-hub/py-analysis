{
 "cells": [
  {
   "cell_type": "code",
   "execution_count": 29,
   "id": "0959523a",
   "metadata": {},
   "outputs": [
    {
     "name": "stdout",
     "output_type": "stream",
     "text": [
      "a    1\n",
      "b    2\n",
      "c    3\n",
      "d    4\n",
      "dtype: int64\n",
      "b    2\n",
      "c    3\n",
      "d    4\n",
      "dtype: int64\n"
     ]
    },
    {
     "data": {
      "text/plain": [
       "True"
      ]
     },
     "execution_count": 29,
     "metadata": {},
     "output_type": "execute_result"
    }
   ],
   "source": [
    "import pandas as pd\n",
    "import numpy as np\n",
    "from pandas import Series, DataFrame\n",
    "\n",
    "# 创建 Series 解构并赋值索引，索引默认从 0 开始\n",
    "obj = pd.Series([1,2,3,4], index = ['a', 'b', 'c', 'd'])\n",
    "\n",
    "# 通过索引访问\n",
    "obj.a\n",
    "\n",
    "# 直接运算 筛选\n",
    "obj * 2\n",
    "np.exp(obj2)\n",
    "obj2 = obj[obj > 1]\n",
    "\n",
    "\n",
    "print(obj)\n",
    "print(obj2)\n",
    "\n",
    "\n",
    "'b' in obj2\n",
    "\n"
   ]
  },
  {
   "cell_type": "code",
   "execution_count": 36,
   "id": "db34d26d",
   "metadata": {},
   "outputs": [
    {
     "name": "stdout",
     "output_type": "stream",
     "text": [
      "Ohio      35000\n",
      "Texas     71000\n",
      "Oregon    16000\n",
      "Utah       5000\n",
      "dtype: int64\n"
     ]
    }
   ],
   "source": [
    "# 通过字典创建 Series\n",
    "\n",
    "sdata = {'Ohio': 35000, 'Texas': 71000, 'Oregon': 16000, 'Utah': 5000}\n",
    "obj3 = pd.Series(sdata)\n",
    "\n",
    "print(obj3)\n",
    "\n"
   ]
  },
  {
   "cell_type": "code",
   "execution_count": 45,
   "id": "92628fce",
   "metadata": {},
   "outputs": [
    {
     "data": {
      "text/plain": [
       "Ohio           NaN\n",
       "Oregon     32000.0\n",
       "Texas     142000.0\n",
       "Utah           NaN\n",
       "asd            NaN\n",
       "nn             NaN\n",
       "dtype: object"
      ]
     },
     "execution_count": 45,
     "metadata": {},
     "output_type": "execute_result"
    }
   ],
   "source": [
    "# Series 自动对齐数据\n",
    "\n",
    "obj4 = Series({'nn': 'NaN', 'Texas': 71000, 'Oregon': 16000, 'asd': False})\n",
    "\n",
    "obj3 + obj4 "
   ]
  },
  {
   "cell_type": "code",
   "execution_count": null,
   "id": "8772483c",
   "metadata": {},
   "outputs": [],
   "source": []
  }
 ],
 "metadata": {
  "kernelspec": {
   "display_name": "Python 3 (ipykernel)",
   "language": "python",
   "name": "python3"
  },
  "language_info": {
   "codemirror_mode": {
    "name": "ipython",
    "version": 3
   },
   "file_extension": ".py",
   "mimetype": "text/x-python",
   "name": "python",
   "nbconvert_exporter": "python",
   "pygments_lexer": "ipython3",
   "version": "3.9.12"
  }
 },
 "nbformat": 4,
 "nbformat_minor": 5
}
